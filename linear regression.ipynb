import numpy as np 
import pandas as pd 
import matplotlib.pyplot as plt 
import seaborn as sns 
from matplotlib import gridspec 
filter_none
brightness_4
path ="credit.csv"
data = pd.read_csv(path)
filter_none
brightness_4
data.head() 
filter_none
brightness_4
print(data.shape) 
print(data.describe()) 
